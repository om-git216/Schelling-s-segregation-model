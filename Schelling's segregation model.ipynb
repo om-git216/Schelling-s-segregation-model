{
 "cells": [
  {
   "cell_type": "markdown",
   "id": "d37f040f",
   "metadata": {},
   "source": [
    "**Schelling's segregation model**  \n",
    "\n",
    "This model is used to understand why people with different ethnic backgrounds segregate geographically. The assumptions of the model are as follows:  \n",
    "1. Two different types of agents are distributed in a finttie 2D space\n",
    "2. In each iteration, a randomly chosen agent looks around its neighbourhood, and if the fraction of agents of the same type among its neighbours is below a threshold, it jumps to another location randomly chosen in space."
   ]
  },
  {
   "cell_type": "code",
   "execution_count": 1,
   "id": "f6e57d0e",
   "metadata": {},
   "outputs": [
    {
     "name": "stderr",
     "output_type": "stream",
     "text": [
      "\n",
      "Bad key text.latex.preview in file C:\\Users\\Omika\\anaconda3\\lib\\site-packages\\matplotlib\\mpl-data\\stylelib\\_classic_test.mplstyle, line 123 ('text.latex.preview : False')\n",
      "You probably need to get an updated matplotlibrc file from\n",
      "https://github.com/matplotlib/matplotlib/blob/v3.5.0/matplotlibrc.template\n",
      "or from the matplotlib source distribution\n",
      "\n",
      "Bad key mathtext.fallback_to_cm in file C:\\Users\\Omika\\anaconda3\\lib\\site-packages\\matplotlib\\mpl-data\\stylelib\\_classic_test.mplstyle, line 155 ('mathtext.fallback_to_cm : True  # When True, use symbols from the Computer Modern')\n",
      "You probably need to get an updated matplotlibrc file from\n",
      "https://github.com/matplotlib/matplotlib/blob/v3.5.0/matplotlibrc.template\n",
      "or from the matplotlib source distribution\n",
      "\n",
      "Bad key savefig.jpeg_quality in file C:\\Users\\Omika\\anaconda3\\lib\\site-packages\\matplotlib\\mpl-data\\stylelib\\_classic_test.mplstyle, line 418 ('savefig.jpeg_quality: 95       # when a jpeg is saved, the default quality parameter.')\n",
      "You probably need to get an updated matplotlibrc file from\n",
      "https://github.com/matplotlib/matplotlib/blob/v3.5.0/matplotlibrc.template\n",
      "or from the matplotlib source distribution\n",
      "\n",
      "Bad key keymap.all_axes in file C:\\Users\\Omika\\anaconda3\\lib\\site-packages\\matplotlib\\mpl-data\\stylelib\\_classic_test.mplstyle, line 466 ('keymap.all_axes : a                 # enable all axes')\n",
      "You probably need to get an updated matplotlibrc file from\n",
      "https://github.com/matplotlib/matplotlib/blob/v3.5.0/matplotlibrc.template\n",
      "or from the matplotlib source distribution\n",
      "\n",
      "Bad key animation.avconv_path in file C:\\Users\\Omika\\anaconda3\\lib\\site-packages\\matplotlib\\mpl-data\\stylelib\\_classic_test.mplstyle, line 477 ('animation.avconv_path: avconv     # Path to avconv binary. Without full path')\n",
      "You probably need to get an updated matplotlibrc file from\n",
      "https://github.com/matplotlib/matplotlib/blob/v3.5.0/matplotlibrc.template\n",
      "or from the matplotlib source distribution\n",
      "\n",
      "Bad key animation.avconv_args in file C:\\Users\\Omika\\anaconda3\\lib\\site-packages\\matplotlib\\mpl-data\\stylelib\\_classic_test.mplstyle, line 479 ('animation.avconv_args:            # Additional arguments to pass to avconv')\n",
      "You probably need to get an updated matplotlibrc file from\n",
      "https://github.com/matplotlib/matplotlib/blob/v3.5.0/matplotlibrc.template\n",
      "or from the matplotlib source distribution\n"
     ]
    }
   ],
   "source": [
    "import random\n",
    "import numpy as np\n",
    "import matplotlib\n",
    "matplotlib.use(\"TkAgg\")\n",
    "from pylab import *\n",
    "\n",
    "n = 1000 #number of agents\n",
    "r = 0.1 #neighborhood radius\n",
    "th = 0.5 #threshold for moving\n",
    "\n",
    "class agent():\n",
    "    pass\n",
    "\n",
    "def initialize():\n",
    "    global agents\n",
    "    agents = []\n",
    "    \n",
    "    for i in range(n):\n",
    "        ag = agent()\n",
    "        ag.type = randint(2)\n",
    "        ag.x = random()\n",
    "        ag.y = random()\n",
    "        agents = np.append(agents, ag)\n",
    "        \n",
    "    return agents\n",
    "\n",
    "def observe():\n",
    "    global agents\n",
    "    cla()\n",
    "    white = [ag for ag in agents if ag.type == 0]\n",
    "    black = [ag for ag in agents if ag.type == 1]\n",
    "    plot([ag.x for ag in white], [ag.y for ag in white], \"wo\")\n",
    "    plot([ag.x for ag in black], [ag.y for ag in black], \"ko\")\n",
    "    axis(\"image\")\n",
    "    axis([0, 1, 0, 1])\n",
    "    \n",
    "def update():\n",
    "    global agents\n",
    "    ag = agents[randint(n)]\n",
    "    neighbours = [nb for nb in agents if (((ag.x - nb.x)**2 + (ag.y - nb.y)**2) < r**2) and (nb != ag)]\n",
    "    if len(neighbours) > 0:\n",
    "        q = len([nb for nb in neighbours if nb.type == ag.type])/float(len(neighbours))\n",
    "        if q < th:\n",
    "            ag.x, ag.y = np.random.uniform(low=0, high=1, size=1), np.random.uniform(low=0, high=1, size=1)"
   ]
  },
  {
   "cell_type": "code",
   "execution_count": 2,
   "id": "3e5aa85d",
   "metadata": {},
   "outputs": [
    {
     "name": "stderr",
     "output_type": "stream",
     "text": [
      "C:\\Users\\Omika\\anaconda3\\lib\\site-packages\\numpy\\core\\_asarray.py:171: VisibleDeprecationWarning: Creating an ndarray from ragged nested sequences (which is a list-or-tuple of lists-or-tuples-or ndarrays with different lengths or shapes) is deprecated. If you meant to do this, you must specify 'dtype=object' when creating the ndarray.\n",
      "  return array(a, dtype, copy=False, order=order, subok=True)\n",
      "C:\\Users\\Omika\\anaconda3\\lib\\site-packages\\ipykernel\\eventloops.py:256: RuntimeWarning: coroutine 'Kernel.do_one_iteration' was never awaited\n",
      "  self.func()\n",
      "RuntimeWarning: Enable tracemalloc to get the object allocation traceback\n"
     ]
    }
   ],
   "source": [
    "import pycxsimulator\n",
    "pycxsimulator.GUI(stepSize=50).start(func=[initialize, observe, update])"
   ]
  }
 ],
 "metadata": {
  "@webio": {
   "lastCommId": null,
   "lastKernelId": null
  },
  "kernelspec": {
   "display_name": "Python 3 (ipykernel)",
   "language": "python",
   "name": "python3"
  },
  "language_info": {
   "codemirror_mode": {
    "name": "ipython",
    "version": 3
   },
   "file_extension": ".py",
   "mimetype": "text/x-python",
   "name": "python",
   "nbconvert_exporter": "python",
   "pygments_lexer": "ipython3",
   "version": "3.8.12"
  }
 },
 "nbformat": 4,
 "nbformat_minor": 5
}
